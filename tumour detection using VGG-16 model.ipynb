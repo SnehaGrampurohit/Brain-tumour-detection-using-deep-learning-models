{
 "cells": [
  {
   "cell_type": "code",
   "execution_count": 0,
   "metadata": {
    "colab": {},
    "colab_type": "code",
    "id": "pjwlBzIKGa5_"
   },
   "outputs": [],
   "source": [
    "import tensorflow as tf\n",
    "from tensorflow.keras.layers import Conv2D, Input, ZeroPadding2D, BatchNormalization, Activation, MaxPooling2D, Flatten, Dense\n",
    "from tensorflow.keras.models import Model, load_model\n",
    "from tensorflow.keras.callbacks import TensorBoard, ModelCheckpoint,EarlyStopping\n",
    "from sklearn.model_selection import train_test_split\n",
    "from sklearn.metrics import f1_score\n",
    "from sklearn.utils import shuffle\n",
    "import cv2\n",
    "import os,sys\n",
    "import imutils\n",
    "import numpy as np\n",
    "import matplotlib.pyplot as plt\n",
    "import time\n",
    "from os import listdir\n",
    "\n",
    "%matplotlib inline  "
   ]
  },
  {
   "cell_type": "code",
   "execution_count": 4,
   "metadata": {
    "colab": {
     "base_uri": "https://localhost:8080/",
     "height": 122
    },
    "colab_type": "code",
    "executionInfo": {
     "elapsed": 38045,
     "status": "ok",
     "timestamp": 1588150016805,
     "user": {
      "displayName": "Sumant Balli",
      "photoUrl": "https://lh3.googleusercontent.com/a-/AOh14GhFcJbFXv0ZDWaYwSijqTaayN_oReKkcRMbR2h21w=s64",
      "userId": "08653643334008630126"
     },
     "user_tz": -330
    },
    "id": "VUpZ_PmoGiqS",
    "outputId": "c8b6023b-3c41-4544-c29a-301ebf413a49"
   },
   "outputs": [
    {
     "name": "stdout",
     "output_type": "stream",
     "text": [
      "Go to this URL in a browser: https://accounts.google.com/o/oauth2/auth?client_id=947318989803-6bn6qk8qdgf4n4g3pfee6491hc0brc4i.apps.googleusercontent.com&redirect_uri=urn%3aietf%3awg%3aoauth%3a2.0%3aoob&response_type=code&scope=email%20https%3a%2f%2fwww.googleapis.com%2fauth%2fdocs.test%20https%3a%2f%2fwww.googleapis.com%2fauth%2fdrive%20https%3a%2f%2fwww.googleapis.com%2fauth%2fdrive.photos.readonly%20https%3a%2f%2fwww.googleapis.com%2fauth%2fpeopleapi.readonly\n",
      "\n",
      "Enter your authorization code:\n",
      "··········\n",
      "Mounted at /content/drive\n"
     ]
    }
   ],
   "source": [
    "from google.colab import drive\n",
    "drive.mount('/content/drive')"
   ]
  },
  {
   "cell_type": "code",
   "execution_count": 0,
   "metadata": {
    "colab": {},
    "colab_type": "code",
    "id": "0ajKSqXSGa6F"
   },
   "outputs": [],
   "source": [
    "def crop_brain_contour(image, plot=False):\n",
    "    \n",
    "    #import imutils\n",
    "    #import cv2\n",
    "    #from matplotlib import pyplot as plt\n",
    "    \n",
    "    # Convert the image to grayscale, and blur it slightly\n",
    "    gray = cv2.cvtColor(image, cv2.COLOR_BGR2GRAY)\n",
    "\n",
    "    gray = cv2.GaussianBlur(gray, (5, 5), 0)\n",
    "\n",
    "    # Threshold the image, then perform a series of erosions +\n",
    "    # dilations to remove any small regions of noise\n",
    "    thresh = cv2.threshold(gray, 45, 255, cv2.THRESH_BINARY)[1]\n",
    "    thresh = cv2.erode(thresh, None, iterations=2)\n",
    "    thresh = cv2.dilate(thresh, None, iterations=2)\n",
    "\n",
    "    # Find contours in thresholded image, then grab the largest one\n",
    "    cnts = cv2.findContours(thresh.copy(), cv2.RETR_EXTERNAL, cv2.CHAIN_APPROX_SIMPLE)\n",
    "    cnts = imutils.grab_contours(cnts)\n",
    "    c = max(cnts, key=cv2.contourArea)\n",
    "    \n",
    "\n",
    "    # Find the extreme points\n",
    "    extLeft = tuple(c[c[:, :, 0].argmin()][0])\n",
    "    extRight = tuple(c[c[:, :, 0].argmax()][0])\n",
    "    extTop = tuple(c[c[:, :, 1].argmin()][0])\n",
    "    extBot = tuple(c[c[:, :, 1].argmax()][0])\n",
    "    \n",
    "    # crop new image out of the original image using the four extreme points (left, right, top, bottom)\n",
    "    new_image = image[extTop[1]:extBot[1], extLeft[0]:extRight[0]]            \n",
    "\n",
    "    if plot:\n",
    "        plt.figure()\n",
    "\n",
    "        plt.subplot(1, 2, 1)\n",
    "        plt.imshow(image)\n",
    "        \n",
    "        plt.tick_params(axis='both', which='both', \n",
    "                        top=False, bottom=False, left=False, right=False,\n",
    "                        labelbottom=False, labeltop=False, labelleft=False, labelright=False)\n",
    "        \n",
    "        plt.title('Original Image')\n",
    "            \n",
    "        plt.subplot(1, 2, 2)\n",
    "        plt.imshow(new_image)\n",
    "\n",
    "        plt.tick_params(axis='both', which='both', \n",
    "                        top=False, bottom=False, left=False, right=False,\n",
    "                        labelbottom=False, labeltop=False, labelleft=False, labelright=False)\n",
    "\n",
    "        plt.title('Step 6:Cropped Image')\n",
    "        \n",
    "        plt.show()\n",
    "    \n",
    "    return new_image"
   ]
  },
  {
   "cell_type": "code",
   "execution_count": 0,
   "metadata": {
    "colab": {},
    "colab_type": "code",
    "id": "fX9k16dBGa6K"
   },
   "outputs": [],
   "source": [
    "def load_data(dir_list, image_size):\n",
    "    \"\"\"\n",
    "    Read images, resize and normalize them. \n",
    "    Arguments:\n",
    "        dir_list: list of strings representing file directories.\n",
    "    Returns:\n",
    "        X: A numpy array with shape = (#_examples, image_width, image_height, #_channels)\n",
    "        y: A numpy array with shape = (#_examples, 1)\n",
    "    \"\"\"\n",
    "\n",
    "    # load all images in a directory\n",
    "    X = []\n",
    "    y = []\n",
    "    image_width, image_height = image_size\n",
    "    \n",
    "    for directory in dir_list:\n",
    "        for filename in os.listdir(directory):\n",
    "            image = cv2.imread(os.path.join(directory,filename))\n",
    "            # load the image\n",
    "            # crop the brain and ignore the unnecessary rest part of the image\n",
    "            image = crop_brain_contour(image, plot=False)\n",
    "            # resize image\n",
    "            image = cv2.resize(image, dsize=(image_width, image_height), interpolation=cv2.INTER_CUBIC)\n",
    "            # normalize values\n",
    "            image = image / 255.\n",
    "            # convert image to numpy array and append it to X\n",
    "            X.append(image)\n",
    "            # append a value of 1 to the target array if the image\n",
    "            # is in the folder named 'yes', otherwise append 0.\n",
    "            if directory[-4:] == 'yes1':\n",
    "                y.append([1])\n",
    "            else:\n",
    "                y.append([0])\n",
    "                \n",
    "    X = np.array(X)\n",
    "    y = np.array(y)\n",
    "      \n",
    "    # Shuffle the data\n",
    "    X, y = shuffle(X, y)\n",
    "    \n",
    "    print(f'Number of examples is: {len(X)}')\n",
    "    print(f'X shape is: {X.shape}')\n",
    "    print(f'y shape is: {y.shape}')\n",
    "    \n",
    "    return X, y"
   ]
  },
  {
   "cell_type": "code",
   "execution_count": 9,
   "metadata": {
    "colab": {
     "base_uri": "https://localhost:8080/",
     "height": 68
    },
    "colab_type": "code",
    "executionInfo": {
     "elapsed": 1308061,
     "status": "ok",
     "timestamp": 1588151436182,
     "user": {
      "displayName": "Sumant Balli",
      "photoUrl": "https://lh3.googleusercontent.com/a-/AOh14GhFcJbFXv0ZDWaYwSijqTaayN_oReKkcRMbR2h21w=s64",
      "userId": "08653643334008630126"
     },
     "user_tz": -330
    },
    "id": "nn5irZ9xGa6O",
    "outputId": "a5b1ebbd-bddf-472b-bc33-d807dd5881b5"
   },
   "outputs": [
    {
     "name": "stdout",
     "output_type": "stream",
     "text": [
      "Number of examples is: 2065\n",
      "X shape is: (2065, 224, 224, 3)\n",
      "y shape is: (2065, 1)\n"
     ]
    }
   ],
   "source": [
    "augmented_yes = '/content/drive/My Drive/no1/no1' \n",
    "augmented_no = '/content/drive/My Drive/yes1'\n",
    "\n",
    "IMG_WIDTH, IMG_HEIGHT = (224, 224)\n",
    "\n",
    "X, y = load_data([augmented_yes, augmented_no], (IMG_WIDTH, IMG_HEIGHT)) "
   ]
  },
  {
   "cell_type": "code",
   "execution_count": 0,
   "metadata": {
    "colab": {},
    "colab_type": "code",
    "id": "b31cCm40Ga6U"
   },
   "outputs": [],
   "source": [
    "def split_data(X, y, test_size=0.2):\n",
    "       \n",
    "    \"\"\"\n",
    "    Splits data into training, development and test sets.\n",
    "    Arguments:\n",
    "        X: A numpy array with shape = (#_examples, image_width, image_height, #_channels)\n",
    "        y: A numpy array with shape = (#_examples, 1)\n",
    "    Returns:\n",
    "        X_train: A numpy array with shape = (#_train_examples, image_width, image_height, #_channels)\n",
    "        y_train: A numpy array with shape = (#_train_examples, 1)\n",
    "        X_val: A numpy array with shape = (#_val_examples, image_width, image_height, #_channels)\n",
    "        y_val: A numpy array with shape = (#_val_examples, 1)\n",
    "        X_test: A numpy array with shape = (#_test_examples, image_width, image_height, #_channels)\n",
    "        y_test: A numpy array with shape = (#_test_examples, 1)\n",
    "    \"\"\"\n",
    "    \n",
    "    X_train, X_test_val, y_train, y_test_val = train_test_split(X, y, test_size=test_size)\n",
    "    X_test, X_val, y_test, y_val = train_test_split(X_test_val, y_test_val, test_size=0.5)\n",
    "    \n",
    "    return X_train, y_train, X_val, y_val, X_test, y_test"
   ]
  },
  {
   "cell_type": "code",
   "execution_count": 0,
   "metadata": {
    "colab": {},
    "colab_type": "code",
    "id": "xf3OQ2EjGa6X"
   },
   "outputs": [],
   "source": [
    "X_train, y_train, X_val, y_val, X_test, y_test = split_data(X, y, test_size=0.3)"
   ]
  },
  {
   "cell_type": "code",
   "execution_count": 12,
   "metadata": {
    "colab": {
     "base_uri": "https://localhost:8080/",
     "height": 170
    },
    "colab_type": "code",
    "executionInfo": {
     "elapsed": 1661,
     "status": "ok",
     "timestamp": 1588151456036,
     "user": {
      "displayName": "Sumant Balli",
      "photoUrl": "https://lh3.googleusercontent.com/a-/AOh14GhFcJbFXv0ZDWaYwSijqTaayN_oReKkcRMbR2h21w=s64",
      "userId": "08653643334008630126"
     },
     "user_tz": -330
    },
    "id": "eRfTNJaGGa6a",
    "outputId": "d49c48ff-7f3e-4c4a-f3b9-0d053c86d7d8"
   },
   "outputs": [
    {
     "name": "stdout",
     "output_type": "stream",
     "text": [
      "number of training examples = 1445\n",
      "number of development examples = 310\n",
      "number of test examples = 310\n",
      "X_train shape: (1445, 224, 224, 3)\n",
      "Y_train shape: (1445, 1)\n",
      "X_val (dev) shape: (310, 224, 224, 3)\n",
      "Y_val (dev) shape: (310, 1)\n",
      "X_test shape: (310, 224, 224, 3)\n",
      "Y_test shape: (310, 1)\n"
     ]
    }
   ],
   "source": [
    "print (\"number of training examples = \" + str(X_train.shape[0]))\n",
    "print (\"number of development examples = \" + str(X_val.shape[0]))\n",
    "print (\"number of test examples = \" + str(X_test.shape[0]))\n",
    "print (\"X_train shape: \" + str(X_train.shape))\n",
    "print (\"Y_train shape: \" + str(y_train.shape))\n",
    "print (\"X_val (dev) shape: \" + str(X_val.shape))\n",
    "print (\"Y_val (dev) shape: \" + str(y_val.shape))\n",
    "print (\"X_test shape: \" + str(X_test.shape))\n",
    "print (\"Y_test shape: \" + str(y_test.shape))"
   ]
  },
  {
   "cell_type": "code",
   "execution_count": 0,
   "metadata": {
    "colab": {},
    "colab_type": "code",
    "id": "_513RVy9Ga6g"
   },
   "outputs": [],
   "source": [
    "\n",
    "from tensorflow.keras.applications.vgg16 import VGG16, preprocess_input\n",
    "from tensorflow.keras import layers\n",
    "from tensorflow.keras.models import Model, Sequential\n",
    "from tensorflow.keras.optimizers import Adam, RMSprop\n",
    "from tensorflow.keras.callbacks import EarlyStopping"
   ]
  },
  {
   "cell_type": "code",
   "execution_count": 0,
   "metadata": {
    "colab": {},
    "colab_type": "code",
    "id": "6WD5qn8OGa6k"
   },
   "outputs": [],
   "source": [
    "model = Sequential()\n",
    "model.add(Conv2D(input_shape=(224,224,3),filters=64,kernel_size=(3,3),padding=\"same\", activation=\"relu\"))\n",
    "model.add(Conv2D(filters=64,kernel_size=(3,3),padding=\"same\", activation=\"relu\"))\n",
    "model.add(MaxPooling2D(pool_size=(2,2),strides=(2,2)))\n",
    "model.add(Conv2D(filters=128, kernel_size=(3,3), padding=\"same\", activation=\"relu\"))\n",
    "model.add(Conv2D(filters=128, kernel_size=(3,3), padding=\"same\", activation=\"relu\"))\n",
    "model.add(MaxPooling2D(pool_size=(2,2),strides=(2,2)))\n",
    "model.add(Conv2D(filters=256, kernel_size=(3,3), padding=\"same\", activation=\"relu\"))\n",
    "model.add(Conv2D(filters=256, kernel_size=(3,3), padding=\"same\", activation=\"relu\"))\n",
    "model.add(Conv2D(filters=256, kernel_size=(3,3), padding=\"same\", activation=\"relu\"))\n",
    "model.add(MaxPooling2D(pool_size=(2,2),strides=(2,2)))\n",
    "model.add(Conv2D(filters=512, kernel_size=(3,3), padding=\"same\", activation=\"relu\"))\n",
    "model.add(Conv2D(filters=512, kernel_size=(3,3), padding=\"same\", activation=\"relu\"))\n",
    "model.add(Conv2D(filters=512, kernel_size=(3,3), padding=\"same\", activation=\"relu\"))\n",
    "model.add(MaxPooling2D(pool_size=(2,2),strides=(2,2)))\n",
    "model.add(Conv2D(filters=512, kernel_size=(3,3), padding=\"same\", activation=\"relu\"))\n",
    "model.add(Conv2D(filters=512, kernel_size=(3,3), padding=\"same\", activation=\"relu\"))\n",
    "model.add(Conv2D(filters=512, kernel_size=(3,3), padding=\"same\", activation=\"relu\"))\n",
    "model.add(MaxPooling2D(pool_size=(2,2),strides=(2,2)))"
   ]
  },
  {
   "cell_type": "code",
   "execution_count": 0,
   "metadata": {
    "colab": {},
    "colab_type": "code",
    "id": "uV2idPJYGa6n"
   },
   "outputs": [],
   "source": [
    "model.add(Flatten())\n",
    "model.add(Dense(units=4096, activation=\"relu\"))\n",
    "model.add(Dense(units=4096, activation=\"relu\"))\n",
    "model.add(Dense(units=1000, activation=\"relu\"))\n",
    "model.add(Dense(units=2, activation=\"softmax\"))"
   ]
  },
  {
   "cell_type": "code",
   "execution_count": 0,
   "metadata": {
    "colab": {},
    "colab_type": "code",
    "id": "hkKkjWEWGa6q"
   },
   "outputs": [],
   "source": [
    "from tensorflow.keras.optimizers import Adam\n",
    "opt = Adam(lr=0.00001)\n",
    "model.compile(optimizer=opt, loss='sparse_categorical_crossentropy', metrics=['accuracy'])"
   ]
  },
  {
   "cell_type": "code",
   "execution_count": 17,
   "metadata": {
    "colab": {
     "base_uri": "https://localhost:8080/",
     "height": 935
    },
    "colab_type": "code",
    "executionInfo": {
     "elapsed": 1392,
     "status": "ok",
     "timestamp": 1588151507699,
     "user": {
      "displayName": "Sumant Balli",
      "photoUrl": "https://lh3.googleusercontent.com/a-/AOh14GhFcJbFXv0ZDWaYwSijqTaayN_oReKkcRMbR2h21w=s64",
      "userId": "08653643334008630126"
     },
     "user_tz": -330
    },
    "id": "pDCRLM43Ga6u",
    "outputId": "2306229d-09c1-4933-ca10-f70b1c4bd480"
   },
   "outputs": [
    {
     "name": "stdout",
     "output_type": "stream",
     "text": [
      "Model: \"sequential\"\n",
      "_________________________________________________________________\n",
      "Layer (type)                 Output Shape              Param #   \n",
      "=================================================================\n",
      "conv2d (Conv2D)              (None, 224, 224, 64)      1792      \n",
      "_________________________________________________________________\n",
      "conv2d_1 (Conv2D)            (None, 224, 224, 64)      36928     \n",
      "_________________________________________________________________\n",
      "max_pooling2d (MaxPooling2D) (None, 112, 112, 64)      0         \n",
      "_________________________________________________________________\n",
      "conv2d_2 (Conv2D)            (None, 112, 112, 128)     73856     \n",
      "_________________________________________________________________\n",
      "conv2d_3 (Conv2D)            (None, 112, 112, 128)     147584    \n",
      "_________________________________________________________________\n",
      "max_pooling2d_1 (MaxPooling2 (None, 56, 56, 128)       0         \n",
      "_________________________________________________________________\n",
      "conv2d_4 (Conv2D)            (None, 56, 56, 256)       295168    \n",
      "_________________________________________________________________\n",
      "conv2d_5 (Conv2D)            (None, 56, 56, 256)       590080    \n",
      "_________________________________________________________________\n",
      "conv2d_6 (Conv2D)            (None, 56, 56, 256)       590080    \n",
      "_________________________________________________________________\n",
      "max_pooling2d_2 (MaxPooling2 (None, 28, 28, 256)       0         \n",
      "_________________________________________________________________\n",
      "conv2d_7 (Conv2D)            (None, 28, 28, 512)       1180160   \n",
      "_________________________________________________________________\n",
      "conv2d_8 (Conv2D)            (None, 28, 28, 512)       2359808   \n",
      "_________________________________________________________________\n",
      "conv2d_9 (Conv2D)            (None, 28, 28, 512)       2359808   \n",
      "_________________________________________________________________\n",
      "max_pooling2d_3 (MaxPooling2 (None, 14, 14, 512)       0         \n",
      "_________________________________________________________________\n",
      "conv2d_10 (Conv2D)           (None, 14, 14, 512)       2359808   \n",
      "_________________________________________________________________\n",
      "conv2d_11 (Conv2D)           (None, 14, 14, 512)       2359808   \n",
      "_________________________________________________________________\n",
      "conv2d_12 (Conv2D)           (None, 14, 14, 512)       2359808   \n",
      "_________________________________________________________________\n",
      "max_pooling2d_4 (MaxPooling2 (None, 7, 7, 512)         0         \n",
      "_________________________________________________________________\n",
      "flatten (Flatten)            (None, 25088)             0         \n",
      "_________________________________________________________________\n",
      "dense (Dense)                (None, 4096)              102764544 \n",
      "_________________________________________________________________\n",
      "dense_1 (Dense)              (None, 4096)              16781312  \n",
      "_________________________________________________________________\n",
      "dense_2 (Dense)              (None, 1000)              4097000   \n",
      "_________________________________________________________________\n",
      "dense_3 (Dense)              (None, 2)                 2002      \n",
      "=================================================================\n",
      "Total params: 138,359,546\n",
      "Trainable params: 138,359,546\n",
      "Non-trainable params: 0\n",
      "_________________________________________________________________\n"
     ]
    }
   ],
   "source": [
    "model.summary()"
   ]
  },
  {
   "cell_type": "code",
   "execution_count": 0,
   "metadata": {
    "colab": {},
    "colab_type": "code",
    "id": "BVs_VN0lGa6z"
   },
   "outputs": [],
   "source": [
    "# Nicely formatted time string\n",
    "def hms_string(sec_elapsed):\n",
    "    h = int(sec_elapsed / (60 * 60))\n",
    "    m = int((sec_elapsed % (60 * 60)) / 60)\n",
    "    s = sec_elapsed % 60\n",
    "    return f\"{h}:{m}:{round(s,1)}\""
   ]
  },
  {
   "cell_type": "code",
   "execution_count": 0,
   "metadata": {
    "colab": {},
    "colab_type": "code",
    "id": "nKBSaAZWGa62"
   },
   "outputs": [],
   "source": [
    "def compute_f1_score(y_true, prob):\n",
    "    # convert the vector of probabilities to a target vector\n",
    "    y_pred = np.where(prob > 0.5, 1, 0)\n",
    "    \n",
    "    score = f1_score(y_true, y_pred)\n",
    "    \n",
    "    return score"
   ]
  },
  {
   "cell_type": "code",
   "execution_count": 0,
   "metadata": {
    "colab": {},
    "colab_type": "code",
    "id": "ScI-z8JqGa65"
   },
   "outputs": [],
   "source": [
    "#tensorboard\n",
    "log_file_name = f'brain_tumor_detection_cnn_{int(time.time())}'\n",
    "#tensorboard = TensorBoard(log_dir=f'logs/{log_file_name}')\n",
    "early=EarlyStopping(monitor='val_accuracy',min_delta=0,patience=25,verbose=1,mode='auto')"
   ]
  },
  {
   "cell_type": "code",
   "execution_count": 0,
   "metadata": {
    "colab": {},
    "colab_type": "code",
    "id": "EZme9oMtGa67"
   },
   "outputs": [],
   "source": [
    "# checkpoint\n",
    "# unique file name that will include the epoch and the validation (development) accuracy\n",
    "filepath=\"cnn-parameters-improvement-{epoch:02d}-{val_accuracy:.2f}\"\n",
    "# save the model with the best validation (development) accuracy till now\n",
    "checkpoint = ModelCheckpoint(\"models/{}.model\".format(filepath, monitor='val_accuracy', verbose=1, save_best_only=True, mode='auto'))"
   ]
  },
  {
   "cell_type": "code",
   "execution_count": 22,
   "metadata": {
    "colab": {
     "base_uri": "https://localhost:8080/",
     "height": 972
    },
    "colab_type": "code",
    "executionInfo": {
     "elapsed": 711984,
     "status": "ok",
     "timestamp": 1588152314882,
     "user": {
      "displayName": "Sumant Balli",
      "photoUrl": "https://lh3.googleusercontent.com/a-/AOh14GhFcJbFXv0ZDWaYwSijqTaayN_oReKkcRMbR2h21w=s64",
      "userId": "08653643334008630126"
     },
     "user_tz": -330
    },
    "id": "51zn6_CIGa6-",
    "outputId": "9d55f28f-10ae-44bd-ef67-8bddb4cd6e1f"
   },
   "outputs": [
    {
     "name": "stdout",
     "output_type": "stream",
     "text": [
      "Epoch 1/17\n",
      "46/46 [==============================] - ETA: 0s - loss: 0.6918 - accuracy: 0.5308WARNING:tensorflow:From /usr/local/lib/python3.6/dist-packages/tensorflow/python/ops/resource_variable_ops.py:1817: calling BaseResourceVariable.__init__ (from tensorflow.python.ops.resource_variable_ops) with constraint is deprecated and will be removed in a future version.\n",
      "Instructions for updating:\n",
      "If using Keras pass *_constraint arguments to layers.\n",
      "INFO:tensorflow:Assets written to: models/cnn-parameters-improvement-01-0.50.model/assets\n",
      "46/46 [==============================] - 41s 894ms/step - loss: 0.6918 - accuracy: 0.5308 - val_loss: 0.6925 - val_accuracy: 0.5032\n",
      "Epoch 2/17\n",
      "46/46 [==============================] - ETA: 0s - loss: 0.6909 - accuracy: 0.5308INFO:tensorflow:Assets written to: models/cnn-parameters-improvement-02-0.50.model/assets\n",
      "46/46 [==============================] - 41s 888ms/step - loss: 0.6909 - accuracy: 0.5308 - val_loss: 0.6922 - val_accuracy: 0.5032\n",
      "Epoch 3/17\n",
      "46/46 [==============================] - ETA: 0s - loss: 0.6901 - accuracy: 0.5308INFO:tensorflow:Assets written to: models/cnn-parameters-improvement-03-0.50.model/assets\n",
      "46/46 [==============================] - 41s 902ms/step - loss: 0.6901 - accuracy: 0.5308 - val_loss: 0.6924 - val_accuracy: 0.5032\n",
      "Epoch 4/17\n",
      "46/46 [==============================] - ETA: 0s - loss: 0.6872 - accuracy: 0.5308INFO:tensorflow:Assets written to: models/cnn-parameters-improvement-04-0.50.model/assets\n",
      "46/46 [==============================] - 41s 892ms/step - loss: 0.6872 - accuracy: 0.5308 - val_loss: 0.6942 - val_accuracy: 0.5032\n",
      "Epoch 5/17\n",
      "46/46 [==============================] - ETA: 0s - loss: 0.6873 - accuracy: 0.5308INFO:tensorflow:Assets written to: models/cnn-parameters-improvement-05-0.50.model/assets\n",
      "46/46 [==============================] - 41s 898ms/step - loss: 0.6873 - accuracy: 0.5308 - val_loss: 0.6903 - val_accuracy: 0.5032\n",
      "Epoch 6/17\n",
      "46/46 [==============================] - ETA: 0s - loss: 0.6822 - accuracy: 0.5308INFO:tensorflow:Assets written to: models/cnn-parameters-improvement-06-0.50.model/assets\n",
      "46/46 [==============================] - 39s 851ms/step - loss: 0.6822 - accuracy: 0.5308 - val_loss: 0.6933 - val_accuracy: 0.5032\n",
      "Epoch 7/17\n",
      "46/46 [==============================] - ETA: 0s - loss: 0.6789 - accuracy: 0.5308INFO:tensorflow:Assets written to: models/cnn-parameters-improvement-07-0.50.model/assets\n",
      "46/46 [==============================] - 42s 918ms/step - loss: 0.6789 - accuracy: 0.5308 - val_loss: 0.6763 - val_accuracy: 0.5032\n",
      "Epoch 8/17\n",
      "46/46 [==============================] - ETA: 0s - loss: 0.6178 - accuracy: 0.6304INFO:tensorflow:Assets written to: models/cnn-parameters-improvement-08-0.62.model/assets\n",
      "46/46 [==============================] - 41s 889ms/step - loss: 0.6178 - accuracy: 0.6304 - val_loss: 0.6167 - val_accuracy: 0.6226\n",
      "Epoch 9/17\n",
      "46/46 [==============================] - ETA: 0s - loss: 0.4718 - accuracy: 0.7785INFO:tensorflow:Assets written to: models/cnn-parameters-improvement-09-0.76.model/assets\n",
      "46/46 [==============================] - 41s 882ms/step - loss: 0.4718 - accuracy: 0.7785 - val_loss: 0.4747 - val_accuracy: 0.7645\n",
      "Epoch 10/17\n",
      "46/46 [==============================] - ETA: 0s - loss: 0.4033 - accuracy: 0.8125INFO:tensorflow:Assets written to: models/cnn-parameters-improvement-10-0.85.model/assets\n",
      "46/46 [==============================] - 41s 892ms/step - loss: 0.4033 - accuracy: 0.8125 - val_loss: 0.4063 - val_accuracy: 0.8484\n",
      "Epoch 11/17\n",
      "46/46 [==============================] - ETA: 0s - loss: 0.2718 - accuracy: 0.8907INFO:tensorflow:Assets written to: models/cnn-parameters-improvement-11-0.88.model/assets\n",
      "46/46 [==============================] - 40s 865ms/step - loss: 0.2718 - accuracy: 0.8907 - val_loss: 0.3005 - val_accuracy: 0.8839\n",
      "Epoch 12/17\n",
      "46/46 [==============================] - ETA: 0s - loss: 0.2052 - accuracy: 0.9253INFO:tensorflow:Assets written to: models/cnn-parameters-improvement-12-0.85.model/assets\n",
      "46/46 [==============================] - 42s 907ms/step - loss: 0.2052 - accuracy: 0.9253 - val_loss: 0.3166 - val_accuracy: 0.8484\n",
      "Epoch 13/17\n",
      "46/46 [==============================] - ETA: 0s - loss: 0.1496 - accuracy: 0.9439INFO:tensorflow:Assets written to: models/cnn-parameters-improvement-13-0.94.model/assets\n",
      "46/46 [==============================] - 40s 867ms/step - loss: 0.1496 - accuracy: 0.9439 - val_loss: 0.1657 - val_accuracy: 0.9419\n",
      "Epoch 14/17\n",
      "46/46 [==============================] - ETA: 0s - loss: 0.0977 - accuracy: 0.9626INFO:tensorflow:Assets written to: models/cnn-parameters-improvement-14-0.91.model/assets\n",
      "46/46 [==============================] - 42s 906ms/step - loss: 0.0977 - accuracy: 0.9626 - val_loss: 0.2441 - val_accuracy: 0.9129\n",
      "Epoch 15/17\n",
      "46/46 [==============================] - ETA: 0s - loss: 0.0579 - accuracy: 0.9841INFO:tensorflow:Assets written to: models/cnn-parameters-improvement-15-0.94.model/assets\n",
      "46/46 [==============================] - 40s 863ms/step - loss: 0.0579 - accuracy: 0.9841 - val_loss: 0.1762 - val_accuracy: 0.9355\n",
      "Epoch 16/17\n",
      "46/46 [==============================] - ETA: 0s - loss: 0.0466 - accuracy: 0.9869INFO:tensorflow:Assets written to: models/cnn-parameters-improvement-16-0.96.model/assets\n",
      "46/46 [==============================] - 40s 878ms/step - loss: 0.0466 - accuracy: 0.9869 - val_loss: 0.1128 - val_accuracy: 0.9613\n",
      "Epoch 17/17\n",
      "46/46 [==============================] - ETA: 0s - loss: 0.0284 - accuracy: 0.9917INFO:tensorflow:Assets written to: models/cnn-parameters-improvement-17-0.96.model/assets\n",
      "46/46 [==============================] - 41s 892ms/step - loss: 0.0284 - accuracy: 0.9917 - val_loss: 0.1046 - val_accuracy: 0.9581\n",
      "Elapsed time: 0:11:50.5\n"
     ]
    }
   ],
   "source": [
    "start_time = time.time()\n",
    "\n",
    "model.fit(x=X_train, y=y_train, batch_size=32, epochs=17, validation_data=(X_val, y_val), callbacks=[early, checkpoint])\n",
    "\n",
    "end_time = time.time()\n",
    "execution_time = (end_time - start_time)\n",
    "print(f\"Elapsed time: {hms_string(execution_time)}\")"
   ]
  },
  {
   "cell_type": "code",
   "execution_count": 23,
   "metadata": {
    "colab": {
     "base_uri": "https://localhost:8080/",
     "height": 156
    },
    "colab_type": "code",
    "executionInfo": {
     "elapsed": 83206,
     "status": "ok",
     "timestamp": 1588152451365,
     "user": {
      "displayName": "Sumant Balli",
      "photoUrl": "https://lh3.googleusercontent.com/a-/AOh14GhFcJbFXv0ZDWaYwSijqTaayN_oReKkcRMbR2h21w=s64",
      "userId": "08653643334008630126"
     },
     "user_tz": -330
    },
    "id": "HEWNroNWGa7C",
    "outputId": "ab25d63d-96dd-4569-e820-12b98b94321b"
   },
   "outputs": [
    {
     "name": "stdout",
     "output_type": "stream",
     "text": [
      "Epoch 1/2\n",
      "46/46 [==============================] - ETA: 0s - loss: 0.0103 - accuracy: 0.9972INFO:tensorflow:Assets written to: models/cnn-parameters-improvement-01-0.97.model/assets\n",
      "46/46 [==============================] - 37s 803ms/step - loss: 0.0103 - accuracy: 0.9972 - val_loss: 0.1098 - val_accuracy: 0.9677\n",
      "Epoch 2/2\n",
      "46/46 [==============================] - ETA: 0s - loss: 0.0885 - accuracy: 0.9716INFO:tensorflow:Assets written to: models/cnn-parameters-improvement-02-0.97.model/assets\n",
      "46/46 [==============================] - 41s 889ms/step - loss: 0.0885 - accuracy: 0.9716 - val_loss: 0.0974 - val_accuracy: 0.9742\n",
      "Elapsed time: 0:1:19.3\n"
     ]
    }
   ],
   "source": [
    "start_time = time.time()\n",
    "\n",
    "model.fit(x=X_train, y=y_train, batch_size=32, epochs=2, validation_data=(X_val, y_val), callbacks=[early, checkpoint])\n",
    "\n",
    "end_time = time.time()\n",
    "execution_time = (end_time - start_time)\n",
    "print(f\"Elapsed time: {hms_string(execution_time)}\")"
   ]
  },
  {
   "cell_type": "code",
   "execution_count": 0,
   "metadata": {
    "colab": {},
    "colab_type": "code",
    "id": "epEw8dNzQW4i"
   },
   "outputs": [],
   "source": [
    "history = model.history.history"
   ]
  },
  {
   "cell_type": "code",
   "execution_count": 25,
   "metadata": {
    "colab": {
     "base_uri": "https://localhost:8080/",
     "height": 85
    },
    "colab_type": "code",
    "executionInfo": {
     "elapsed": 1284,
     "status": "ok",
     "timestamp": 1588152482415,
     "user": {
      "displayName": "Sumant Balli",
      "photoUrl": "https://lh3.googleusercontent.com/a-/AOh14GhFcJbFXv0ZDWaYwSijqTaayN_oReKkcRMbR2h21w=s64",
      "userId": "08653643334008630126"
     },
     "user_tz": -330
    },
    "id": "Dv65K-8qGa7H",
    "outputId": "5f8e0c72-9cf7-4bd7-8d8f-456ac2537d6e"
   },
   "outputs": [
    {
     "name": "stdout",
     "output_type": "stream",
     "text": [
      "loss\n",
      "accuracy\n",
      "val_loss\n",
      "val_accuracy\n"
     ]
    }
   ],
   "source": [
    "for key in history.keys():\n",
    "    print(key)"
   ]
  },
  {
   "cell_type": "code",
   "execution_count": 0,
   "metadata": {
    "colab": {},
    "colab_type": "code",
    "id": "SVCsjgZAGa7L"
   },
   "outputs": [],
   "source": [
    "def plot_metrics(history):\n",
    "    \n",
    "    train_loss = history['loss']\n",
    "    val_loss = history['val_loss']\n",
    "    train_acc = history['accuracy']\n",
    "    val_acc = history['val_accuracy']\n",
    "    \n",
    "    # Loss\n",
    "    plt.figure()\n",
    "    plt.plot(train_loss, label='Training Loss')\n",
    "    plt.plot(val_loss, label='Validation Loss')\n",
    "    plt.title('Loss')\n",
    "    \n",
    "    \n",
    "    # Accuracy\n",
    "    plt.figure()\n",
    "    plt.plot(train_acc, label='Training Accuracy')\n",
    "    plt.plot(val_acc, label='Validation Accuracy')\n",
    "    plt.title('Accuracy')\n",
    "    "
   ]
  },
  {
   "cell_type": "code",
   "execution_count": 16,
   "metadata": {},
   "outputs": [
    {
     "data": {
      "text/plain": [
       "<matplotlib.image.AxesImage at 0x7fb6e8c8a320>"
      ]
     },
     "execution_count": 16,
     "metadata": {},
     "output_type": "execute_result"
    },
    {
     "data": {
      "image/png": "[encoded data removed]",
      "text/plain": [
       "<Figure size 432x288 with 2 Axes>"
      ]
     },
     "metadata": {
      "needs_background": "light"
     },
     "output_type": "display_data"
    }
   ],
   "source": [
    "plot_metrics(history)\n"
   ]
  }
 ],
 "metadata": {
  "accelerator": "GPU",
  "colab": {
   "collapsed_sections": [],
   "name": "vggfinal123.ipynb",
   "provenance": []
  },
  "kernelspec": {
   "display_name": "Python 3",
   "language": "python",
   "name": "python3"
  },
  "language_info": {
   "codemirror_mode": {
    "name": "ipython",
    "version": 3
   },
   "file_extension": ".py",
   "mimetype": "text/x-python",
   "name": "python",
   "nbconvert_exporter": "python",
   "pygments_lexer": "ipython3",
   "version": "3.6.8"
  }
 },
 "nbformat": 4,
 "nbformat_minor": 1
}
